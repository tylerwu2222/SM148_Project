{
 "cells": [
  {
   "cell_type": "code",
   "execution_count": 1,
   "metadata": {},
   "outputs": [],
   "source": [
    "import tweepy\n",
    "import pandas as pd\n",
    "import numpy as np\n",
    "import os\n",
    "import shutil\n",
    "import glob\n",
    "from datetime import datetime\n",
    "import re\n",
    "import random"
   ]
  },
  {
   "cell_type": "code",
   "execution_count": 2,
   "metadata": {},
   "outputs": [],
   "source": [
    "consumer_key = \"rs8fimR6iW9hQvLg45utLmdkF\" # REPLACE WITH OWN CONSUMER KEY AND SECRET\n",
    "consumer_secret = \"z19dkW6zpmzBICreE6C0XGCBLJlw64k7byRi58vHYLvzUEqrbi\"\n",
    "  \n",
    "# authorization of consumer key and consumer secret\n",
    "auth = tweepy.OAuthHandler(consumer_key, consumer_secret)\n",
    "\n",
    "# calling the api \n",
    "api = tweepy.API(auth, wait_on_rate_limit=True)"
   ]
  },
  {
   "cell_type": "markdown",
   "metadata": {},
   "source": [
    "API Notes:\n",
    "- User can be suspended, tweet could be deleted -> tweet ID returns error: Forbidden: 403 Forbidden\n",
    "63 - User has been suspended. -> need exception handling\n",
    "- Tweepy's `tweet.user.location` doesn't always return county level\n",
    "- other potential variables of interest: `description` (text of tweet), `followers_count` (to filter for most influential accounts?), `friends_count` (how many following), `created_at`, `id_str` (unique ID for user, could see who's tweeting about COVID the most)"
   ]
  },
  {
   "cell_type": "markdown",
   "metadata": {},
   "source": [
    "Data Collection Notes:  \n",
    "\n",
    "0) Download txtcollector to combine csvs for each day into one for month: https://bluefive.pairsite.com/txtcollector.htm\n",
    "1) Download csvs for month using DownGit: https://downgit.github.io/#/home \n",
    "2) combine using txtcollector\n",
    "3) Run below code"
   ]
  },
  {
   "cell_type": "code",
   "execution_count": 3,
   "metadata": {},
   "outputs": [
    {
     "data": {
      "text/plain": [
       "120101959"
      ]
     },
     "execution_count": 3,
     "metadata": {},
     "output_type": "execute_result"
    }
   ],
   "source": [
    "df = pd.read_csv(\"tweet_data/combinedsept2020.txt\") # <- change to correct file name\n",
    "total_tweets = len(df.index) # magnitude of ~100 million tweets per month, maybe sample... 100,000? -> filter those for US, ~10,000 per month\n",
    "total_tweets"
   ]
  },
  {
   "cell_type": "code",
   "execution_count": 4,
   "metadata": {},
   "outputs": [
    {
     "data": {
      "text/plain": [
       "array([1309925861550944257, 1305838038594002944, 1301936824068136960, ...,\n",
       "       1301492493674926080, 1303095457892036609, 1301504331196268544],\n",
       "      dtype=int64)"
      ]
     },
     "execution_count": 4,
     "metadata": {},
     "output_type": "execute_result"
    }
   ],
   "source": [
    "# sample from all tweets\n",
    "random.seed(1234)\n",
    "sample_size = 100000\n",
    "rand_tweets_indices = random.sample(range(0,total_tweets),sample_size)\n",
    "tweet_ids = df.iloc[:,0]\n",
    "tweet_id_sample = tweet_ids[rand_tweets_indices].values\n",
    "tweet_id_sample"
   ]
  },
  {
   "cell_type": "code",
   "execution_count": 5,
   "metadata": {},
   "outputs": [],
   "source": [
    "# filter function for US states\n",
    "state_abbrs = [ 'AK', 'AL', 'AR', 'AZ', 'CA', 'CO', 'CT', 'DC', 'DE', 'FL', 'GA',\n",
    "           'HI', 'IA', 'ID', 'IL', 'IN', 'KS', 'KY', 'LA', 'MA', 'MD', 'ME',\n",
    "           'MI', 'MN', 'MO', 'MS', 'MT', 'NC', 'ND', 'NE', 'NH', 'NJ', 'NM',\n",
    "           'NV', 'NY', 'OH', 'OK', 'OR', 'PA', 'RI', 'SC', 'SD', 'TN', 'TX',\n",
    "           'UT', 'VA', 'VT', 'WA', 'WI', 'WV', 'WY','US','USA']\n",
    "states = [\"Alaska\", \"Alabama\", \"Arkansas\", \"American Samoa\", \n",
    "            \"Arizona\", \"California\", \"Colorado\", \"Connecticut\", \"District of Columbia\",\n",
    "            \"Delaware\", \"Florida\", \"Georgia\", \"Guam\", \"Hawaii\", \"Iowa\", \"Idaho\", \n",
    "            \"Illinois\", \"Indiana\", \"Kansas\", \"Kentucky\", \"Louisiana\", \"Massachusetts\", \n",
    "            \"Maryland\", \"Maine\", \"Michigan\", \"Minnesota\", \"Missouri\", \"Mississippi\", \n",
    "            \"Montana\", \"North Carolina\", \"North Dakota\", \"Nebraska\", \"New Hampshire\", \"New Jersey\", \n",
    "            \"New Mexico\", \"Nevada\", \"New York\", \"Ohio\", \"Oklahoma\", \"Oregon\", \"Pennsylvania\", \n",
    "            \"Puerto Rico\", \"Rhode Island\", \"South Carolina\", \"South Dakota\", \"Tennessee\", \"Texas\", \n",
    "            \"Utah\", \"Virginia\", \"Virgin Islands\", \"Vermont\", \"Washington\", \"Wisconsin\", \"West Virginia\", \n",
    "            \"Wyoming\",]\n",
    "            \n",
    "def filter_location(location):\n",
    "    if ',' not in location:\n",
    "        return False\n",
    "    in_state_abbr = [re.search(', ' + re.escape(state_abbr.lower()) + '$',location.lower()) for state_abbr in state_abbrs] # only County, STATE_ABBR\n",
    "    in_state = [re.search(', ' + re.escape(state.lower()) + '$',location.lower()) for state in states] # only County, state_name.lower()\n",
    "    return any(in_state_abbr + in_state)"
   ]
  },
  {
   "cell_type": "code",
   "execution_count": 6,
   "metadata": {},
   "outputs": [
    {
     "name": "stdout",
     "output_type": "stream",
     "text": [
      "5776\n"
     ]
    }
   ],
   "source": [
    "# test API\n",
    "id_t =  '1487802028394901508'\n",
    "status = api.get_status(id_t)\n",
    "user = status.user\n",
    "print(status.favorite_count)"
   ]
  },
  {
   "cell_type": "code",
   "execution_count": 7,
   "metadata": {},
   "outputs": [
    {
     "name": "stdout",
     "output_type": "stream",
     "text": [
      "True\n",
      "False\n",
      "False\n",
      "False\n"
     ]
    }
   ],
   "source": [
    "# testing filter function\n",
    "print(filter_location('Portland, OR'))\n",
    "print(filter_location('Somewhere, India'))\n",
    "print(filter_location('USA'))\n",
    "print(filter_location('Somwhere, ORCA'))"
   ]
  },
  {
   "cell_type": "code",
   "execution_count": 8,
   "metadata": {},
   "outputs": [
    {
     "name": "stdout",
     "output_type": "stream",
     "text": [
      "tweet 0 ; 0.0 pct done\n",
      "tweet 500 ; 0.5 pct done\n"
     ]
    },
    {
     "name": "stderr",
     "output_type": "stream",
     "text": [
      "Rate limit reached. Sleeping for: 764\n"
     ]
    },
    {
     "name": "stdout",
     "output_type": "stream",
     "text": [
      "tweet 1000 ; 1.0 pct done\n",
      "tweet 1500 ; 1.5 pct done\n"
     ]
    },
    {
     "name": "stderr",
     "output_type": "stream",
     "text": [
      "Rate limit reached. Sleeping for: 771\n"
     ]
    },
    {
     "name": "stdout",
     "output_type": "stream",
     "text": [
      "tweet 2000 ; 2.0 pct done\n",
      "tweet 2500 ; 2.5 pct done\n"
     ]
    },
    {
     "name": "stderr",
     "output_type": "stream",
     "text": [
      "Rate limit reached. Sleeping for: 766\n"
     ]
    },
    {
     "name": "stdout",
     "output_type": "stream",
     "text": [
      "tweet 3000 ; 3.0 pct done\n",
      "tweet 3500 ; 3.5 pct done\n"
     ]
    },
    {
     "name": "stderr",
     "output_type": "stream",
     "text": [
      "Rate limit reached. Sleeping for: 769\n"
     ]
    },
    {
     "name": "stdout",
     "output_type": "stream",
     "text": [
      "tweet 4000 ; 4.0 pct done\n"
     ]
    },
    {
     "name": "stderr",
     "output_type": "stream",
     "text": [
      "Rate limit reached. Sleeping for: 764\n"
     ]
    },
    {
     "name": "stdout",
     "output_type": "stream",
     "text": [
      "tweet 4500 ; 4.5 pct done\n",
      "tweet 5000 ; 5.0 pct done\n"
     ]
    },
    {
     "name": "stderr",
     "output_type": "stream",
     "text": [
      "Rate limit reached. Sleeping for: 758\n"
     ]
    },
    {
     "name": "stdout",
     "output_type": "stream",
     "text": [
      "tweet 5500 ; 5.5 pct done\n",
      "tweet 6000 ; 6.0 pct done\n"
     ]
    },
    {
     "name": "stderr",
     "output_type": "stream",
     "text": [
      "Rate limit reached. Sleeping for: 769\n"
     ]
    },
    {
     "name": "stdout",
     "output_type": "stream",
     "text": [
      "tweet 6500 ; 6.5 pct done\n",
      "tweet 7000 ; 7.0 pct done\n"
     ]
    },
    {
     "name": "stderr",
     "output_type": "stream",
     "text": [
      "Rate limit reached. Sleeping for: 766\n"
     ]
    },
    {
     "name": "stdout",
     "output_type": "stream",
     "text": [
      "tweet 7500 ; 7.5 pct done\n",
      "tweet 8000 ; 8.0 pct done\n"
     ]
    },
    {
     "name": "stderr",
     "output_type": "stream",
     "text": [
      "Rate limit reached. Sleeping for: 771\n"
     ]
    },
    {
     "name": "stdout",
     "output_type": "stream",
     "text": [
      "tweet 8500 ; 8.5 pct done\n"
     ]
    },
    {
     "name": "stderr",
     "output_type": "stream",
     "text": [
      "Rate limit reached. Sleeping for: 771\n"
     ]
    },
    {
     "name": "stdout",
     "output_type": "stream",
     "text": [
      "tweet 9000 ; 9.0 pct done\n",
      "tweet 9500 ; 9.5 pct done\n"
     ]
    },
    {
     "name": "stderr",
     "output_type": "stream",
     "text": [
      "Rate limit reached. Sleeping for: 770\n"
     ]
    },
    {
     "name": "stdout",
     "output_type": "stream",
     "text": [
      "tweet 10000 ; 10.0 pct done\n",
      "tweet 10500 ; 10.5 pct done\n"
     ]
    },
    {
     "name": "stderr",
     "output_type": "stream",
     "text": [
      "Rate limit reached. Sleeping for: 767\n"
     ]
    },
    {
     "name": "stdout",
     "output_type": "stream",
     "text": [
      "tweet 11000 ; 11.0 pct done\n",
      "tweet 11500 ; 11.5 pct done\n"
     ]
    },
    {
     "name": "stderr",
     "output_type": "stream",
     "text": [
      "Rate limit reached. Sleeping for: 765\n"
     ]
    },
    {
     "name": "stdout",
     "output_type": "stream",
     "text": [
      "tweet 12000 ; 12.0 pct done\n",
      "tweet 12500 ; 12.5 pct done\n"
     ]
    },
    {
     "name": "stderr",
     "output_type": "stream",
     "text": [
      "Rate limit reached. Sleeping for: 767\n"
     ]
    },
    {
     "name": "stdout",
     "output_type": "stream",
     "text": [
      "tweet 13000 ; 13.0 pct done\n"
     ]
    },
    {
     "name": "stderr",
     "output_type": "stream",
     "text": [
      "Rate limit reached. Sleeping for: 773\n"
     ]
    },
    {
     "name": "stdout",
     "output_type": "stream",
     "text": [
      "tweet 13500 ; 13.5 pct done\n",
      "tweet 14000 ; 14.0 pct done\n"
     ]
    },
    {
     "name": "stderr",
     "output_type": "stream",
     "text": [
      "Rate limit reached. Sleeping for: 767\n"
     ]
    },
    {
     "name": "stdout",
     "output_type": "stream",
     "text": [
      "tweet 14500 ; 14.5 pct done\n",
      "tweet 15000 ; 15.0 pct done\n"
     ]
    },
    {
     "name": "stderr",
     "output_type": "stream",
     "text": [
      "Rate limit reached. Sleeping for: 764\n"
     ]
    },
    {
     "name": "stdout",
     "output_type": "stream",
     "text": [
      "tweet 15500 ; 15.5 pct done\n",
      "tweet 16000 ; 16.0 pct done\n"
     ]
    },
    {
     "name": "stderr",
     "output_type": "stream",
     "text": [
      "Rate limit reached. Sleeping for: 765\n"
     ]
    },
    {
     "name": "stdout",
     "output_type": "stream",
     "text": [
      "tweet 16500 ; 16.5 pct done\n",
      "tweet 17000 ; 17.0 pct done\n"
     ]
    },
    {
     "name": "stderr",
     "output_type": "stream",
     "text": [
      "Rate limit reached. Sleeping for: 770\n"
     ]
    },
    {
     "name": "stdout",
     "output_type": "stream",
     "text": [
      "tweet 17500 ; 17.5 pct done\n"
     ]
    },
    {
     "name": "stderr",
     "output_type": "stream",
     "text": [
      "Rate limit reached. Sleeping for: 764\n"
     ]
    },
    {
     "name": "stdout",
     "output_type": "stream",
     "text": [
      "tweet 18000 ; 18.0 pct done\n",
      "tweet 18500 ; 18.5 pct done\n"
     ]
    },
    {
     "name": "stderr",
     "output_type": "stream",
     "text": [
      "Rate limit reached. Sleeping for: 758\n"
     ]
    },
    {
     "name": "stdout",
     "output_type": "stream",
     "text": [
      "tweet 19000 ; 19.0 pct done\n",
      "tweet 19500 ; 19.5 pct done\n"
     ]
    },
    {
     "name": "stderr",
     "output_type": "stream",
     "text": [
      "Rate limit reached. Sleeping for: 765\n"
     ]
    },
    {
     "name": "stdout",
     "output_type": "stream",
     "text": [
      "tweet 20000 ; 20.0 pct done\n",
      "tweet 20500 ; 20.5 pct done\n"
     ]
    },
    {
     "name": "stderr",
     "output_type": "stream",
     "text": [
      "Rate limit reached. Sleeping for: 767\n"
     ]
    },
    {
     "name": "stdout",
     "output_type": "stream",
     "text": [
      "tweet 21000 ; 21.0 pct done\n",
      "tweet 21500 ; 21.5 pct done\n"
     ]
    },
    {
     "name": "stderr",
     "output_type": "stream",
     "text": [
      "Rate limit reached. Sleeping for: 754\n"
     ]
    },
    {
     "name": "stdout",
     "output_type": "stream",
     "text": [
      "tweet 22000 ; 22.0 pct done\n"
     ]
    },
    {
     "name": "stderr",
     "output_type": "stream",
     "text": [
      "Rate limit reached. Sleeping for: 765\n"
     ]
    },
    {
     "name": "stdout",
     "output_type": "stream",
     "text": [
      "tweet 22500 ; 22.5 pct done\n",
      "tweet 23000 ; 23.0 pct done\n"
     ]
    },
    {
     "name": "stderr",
     "output_type": "stream",
     "text": [
      "Rate limit reached. Sleeping for: 765\n"
     ]
    },
    {
     "name": "stdout",
     "output_type": "stream",
     "text": [
      "tweet 23500 ; 23.5 pct done\n",
      "tweet 24000 ; 24.0 pct done\n"
     ]
    },
    {
     "name": "stderr",
     "output_type": "stream",
     "text": [
      "Rate limit reached. Sleeping for: 765\n"
     ]
    },
    {
     "name": "stdout",
     "output_type": "stream",
     "text": [
      "tweet 24500 ; 24.5 pct done\n",
      "tweet 25000 ; 25.0 pct done\n"
     ]
    },
    {
     "name": "stderr",
     "output_type": "stream",
     "text": [
      "Rate limit reached. Sleeping for: 765\n"
     ]
    },
    {
     "name": "stdout",
     "output_type": "stream",
     "text": [
      "tweet 25500 ; 25.5 pct done\n",
      "tweet 26000 ; 26.0 pct done\n"
     ]
    },
    {
     "name": "stderr",
     "output_type": "stream",
     "text": [
      "Rate limit reached. Sleeping for: 759\n"
     ]
    },
    {
     "name": "stdout",
     "output_type": "stream",
     "text": [
      "tweet 26500 ; 26.5 pct done\n"
     ]
    },
    {
     "name": "stderr",
     "output_type": "stream",
     "text": [
      "Rate limit reached. Sleeping for: 766\n"
     ]
    },
    {
     "name": "stdout",
     "output_type": "stream",
     "text": [
      "tweet 27000 ; 27.0 pct done\n",
      "tweet 27500 ; 27.5 pct done\n"
     ]
    },
    {
     "name": "stderr",
     "output_type": "stream",
     "text": [
      "Rate limit reached. Sleeping for: 770\n"
     ]
    },
    {
     "name": "stdout",
     "output_type": "stream",
     "text": [
      "tweet 28000 ; 28.0 pct done\n",
      "tweet 28500 ; 28.5 pct done\n"
     ]
    },
    {
     "name": "stderr",
     "output_type": "stream",
     "text": [
      "Rate limit reached. Sleeping for: 771\n"
     ]
    },
    {
     "name": "stdout",
     "output_type": "stream",
     "text": [
      "tweet 29000 ; 29.0 pct done\n",
      "tweet 29500 ; 29.5 pct done\n"
     ]
    },
    {
     "name": "stderr",
     "output_type": "stream",
     "text": [
      "Rate limit reached. Sleeping for: 764\n"
     ]
    },
    {
     "name": "stdout",
     "output_type": "stream",
     "text": [
      "tweet 30000 ; 30.0 pct done\n",
      "tweet 30500 ; 30.5 pct done\n"
     ]
    },
    {
     "name": "stderr",
     "output_type": "stream",
     "text": [
      "Rate limit reached. Sleeping for: 764\n"
     ]
    },
    {
     "name": "stdout",
     "output_type": "stream",
     "text": [
      "tweet 31000 ; 31.0 pct done\n"
     ]
    },
    {
     "name": "stderr",
     "output_type": "stream",
     "text": [
      "Rate limit reached. Sleeping for: 765\n"
     ]
    },
    {
     "name": "stdout",
     "output_type": "stream",
     "text": [
      "tweet 31500 ; 31.5 pct done\n",
      "tweet 32000 ; 32.0 pct done\n"
     ]
    },
    {
     "name": "stderr",
     "output_type": "stream",
     "text": [
      "Rate limit reached. Sleeping for: 769\n"
     ]
    },
    {
     "name": "stdout",
     "output_type": "stream",
     "text": [
      "tweet 32500 ; 32.5 pct done\n",
      "tweet 33000 ; 33.0 pct done\n"
     ]
    },
    {
     "name": "stderr",
     "output_type": "stream",
     "text": [
      "Rate limit reached. Sleeping for: 767\n"
     ]
    },
    {
     "name": "stdout",
     "output_type": "stream",
     "text": [
      "tweet 33500 ; 33.5 pct done\n",
      "tweet 34000 ; 34.0 pct done\n"
     ]
    },
    {
     "name": "stderr",
     "output_type": "stream",
     "text": [
      "Rate limit reached. Sleeping for: 765\n"
     ]
    },
    {
     "name": "stdout",
     "output_type": "stream",
     "text": [
      "tweet 34500 ; 34.5 pct done\n",
      "tweet 35000 ; 35.0 pct done\n"
     ]
    },
    {
     "name": "stderr",
     "output_type": "stream",
     "text": [
      "Rate limit reached. Sleeping for: 768\n"
     ]
    },
    {
     "name": "stdout",
     "output_type": "stream",
     "text": [
      "tweet 35500 ; 35.5 pct done\n"
     ]
    },
    {
     "name": "stderr",
     "output_type": "stream",
     "text": [
      "Rate limit reached. Sleeping for: 762\n"
     ]
    },
    {
     "name": "stdout",
     "output_type": "stream",
     "text": [
      "tweet 36000 ; 36.0 pct done\n",
      "tweet 36500 ; 36.5 pct done\n"
     ]
    },
    {
     "name": "stderr",
     "output_type": "stream",
     "text": [
      "Rate limit reached. Sleeping for: 764\n"
     ]
    },
    {
     "name": "stdout",
     "output_type": "stream",
     "text": [
      "tweet 37000 ; 37.0 pct done\n",
      "tweet 37500 ; 37.5 pct done\n"
     ]
    },
    {
     "name": "stderr",
     "output_type": "stream",
     "text": [
      "Rate limit reached. Sleeping for: 763\n"
     ]
    },
    {
     "name": "stdout",
     "output_type": "stream",
     "text": [
      "tweet 38000 ; 38.0 pct done\n",
      "tweet 38500 ; 38.5 pct done\n"
     ]
    },
    {
     "name": "stderr",
     "output_type": "stream",
     "text": [
      "Rate limit reached. Sleeping for: 759\n"
     ]
    },
    {
     "name": "stdout",
     "output_type": "stream",
     "text": [
      "tweet 39000 ; 39.0 pct done\n",
      "tweet 39500 ; 39.5 pct done\n"
     ]
    },
    {
     "name": "stderr",
     "output_type": "stream",
     "text": [
      "Rate limit reached. Sleeping for: 750\n"
     ]
    },
    {
     "name": "stdout",
     "output_type": "stream",
     "text": [
      "tweet 40000 ; 40.0 pct done\n"
     ]
    },
    {
     "name": "stderr",
     "output_type": "stream",
     "text": [
      "Rate limit reached. Sleeping for: 758\n"
     ]
    },
    {
     "name": "stdout",
     "output_type": "stream",
     "text": [
      "tweet 40500 ; 40.5 pct done\n",
      "tweet 41000 ; 41.0 pct done\n"
     ]
    },
    {
     "name": "stderr",
     "output_type": "stream",
     "text": [
      "Rate limit reached. Sleeping for: 751\n"
     ]
    },
    {
     "name": "stdout",
     "output_type": "stream",
     "text": [
      "tweet 41500 ; 41.5 pct done\n",
      "tweet 42000 ; 42.0 pct done\n"
     ]
    },
    {
     "name": "stderr",
     "output_type": "stream",
     "text": [
      "Rate limit reached. Sleeping for: 761\n"
     ]
    },
    {
     "name": "stdout",
     "output_type": "stream",
     "text": [
      "tweet 42500 ; 42.5 pct done\n",
      "tweet 43000 ; 43.0 pct done\n"
     ]
    },
    {
     "name": "stderr",
     "output_type": "stream",
     "text": [
      "Rate limit reached. Sleeping for: 748\n"
     ]
    },
    {
     "name": "stdout",
     "output_type": "stream",
     "text": [
      "tweet 43500 ; 43.5 pct done\n",
      "tweet 44000 ; 44.0 pct done\n"
     ]
    },
    {
     "name": "stderr",
     "output_type": "stream",
     "text": [
      "Rate limit reached. Sleeping for: 755\n"
     ]
    },
    {
     "name": "stdout",
     "output_type": "stream",
     "text": [
      "tweet 44500 ; 44.5 pct done\n"
     ]
    },
    {
     "name": "stderr",
     "output_type": "stream",
     "text": [
      "Rate limit reached. Sleeping for: 744\n"
     ]
    },
    {
     "name": "stdout",
     "output_type": "stream",
     "text": [
      "tweet 45000 ; 45.0 pct done\n",
      "tweet 45500 ; 45.5 pct done\n"
     ]
    },
    {
     "name": "stderr",
     "output_type": "stream",
     "text": [
      "Rate limit reached. Sleeping for: 758\n"
     ]
    },
    {
     "name": "stdout",
     "output_type": "stream",
     "text": [
      "tweet 46000 ; 46.0 pct done\n",
      "tweet 46500 ; 46.5 pct done\n"
     ]
    },
    {
     "name": "stderr",
     "output_type": "stream",
     "text": [
      "Rate limit reached. Sleeping for: 755\n"
     ]
    },
    {
     "name": "stdout",
     "output_type": "stream",
     "text": [
      "tweet 47000 ; 47.0 pct done\n",
      "tweet 47500 ; 47.5 pct done\n"
     ]
    },
    {
     "name": "stderr",
     "output_type": "stream",
     "text": [
      "Rate limit reached. Sleeping for: 753\n"
     ]
    },
    {
     "name": "stdout",
     "output_type": "stream",
     "text": [
      "tweet 48000 ; 48.0 pct done\n",
      "tweet 48500 ; 48.5 pct done\n"
     ]
    },
    {
     "name": "stderr",
     "output_type": "stream",
     "text": [
      "Rate limit reached. Sleeping for: 758\n"
     ]
    },
    {
     "name": "stdout",
     "output_type": "stream",
     "text": [
      "tweet 49000 ; 49.0 pct done\n"
     ]
    },
    {
     "name": "stderr",
     "output_type": "stream",
     "text": [
      "Rate limit reached. Sleeping for: 758\n"
     ]
    },
    {
     "name": "stdout",
     "output_type": "stream",
     "text": [
      "tweet 49500 ; 49.5 pct done\n",
      "tweet 50000 ; 50.0 pct done\n"
     ]
    },
    {
     "name": "stderr",
     "output_type": "stream",
     "text": [
      "Rate limit reached. Sleeping for: 763\n"
     ]
    },
    {
     "name": "stdout",
     "output_type": "stream",
     "text": [
      "tweet 50500 ; 50.5 pct done\n",
      "tweet 51000 ; 51.0 pct done\n"
     ]
    },
    {
     "name": "stderr",
     "output_type": "stream",
     "text": [
      "Rate limit reached. Sleeping for: 751\n"
     ]
    },
    {
     "name": "stdout",
     "output_type": "stream",
     "text": [
      "tweet 51500 ; 51.5 pct done\n",
      "tweet 52000 ; 52.0 pct done\n"
     ]
    },
    {
     "name": "stderr",
     "output_type": "stream",
     "text": [
      "Rate limit reached. Sleeping for: 734\n"
     ]
    },
    {
     "name": "stdout",
     "output_type": "stream",
     "text": [
      "tweet 52500 ; 52.5 pct done\n",
      "tweet 53000 ; 53.0 pct done\n"
     ]
    },
    {
     "name": "stderr",
     "output_type": "stream",
     "text": [
      "Rate limit reached. Sleeping for: 756\n"
     ]
    },
    {
     "name": "stdout",
     "output_type": "stream",
     "text": [
      "tweet 53500 ; 53.5 pct done\n"
     ]
    },
    {
     "name": "stderr",
     "output_type": "stream",
     "text": [
      "Rate limit reached. Sleeping for: 754\n"
     ]
    },
    {
     "name": "stdout",
     "output_type": "stream",
     "text": [
      "tweet 54000 ; 54.0 pct done\n",
      "tweet 54500 ; 54.5 pct done\n"
     ]
    },
    {
     "name": "stderr",
     "output_type": "stream",
     "text": [
      "Rate limit reached. Sleeping for: 728\n"
     ]
    },
    {
     "name": "stdout",
     "output_type": "stream",
     "text": [
      "tweet 55000 ; 55.0 pct done\n",
      "tweet 55500 ; 55.5 pct done\n"
     ]
    },
    {
     "name": "stderr",
     "output_type": "stream",
     "text": [
      "Rate limit reached. Sleeping for: 759\n"
     ]
    },
    {
     "name": "stdout",
     "output_type": "stream",
     "text": [
      "tweet 56000 ; 56.0 pct done\n",
      "tweet 56500 ; 56.5 pct done\n"
     ]
    },
    {
     "name": "stderr",
     "output_type": "stream",
     "text": [
      "Rate limit reached. Sleeping for: 741\n"
     ]
    },
    {
     "name": "stdout",
     "output_type": "stream",
     "text": [
      "tweet 57000 ; 57.0 pct done\n",
      "tweet 57500 ; 57.5 pct done\n"
     ]
    },
    {
     "name": "stderr",
     "output_type": "stream",
     "text": [
      "Rate limit reached. Sleeping for: 735\n"
     ]
    },
    {
     "name": "stdout",
     "output_type": "stream",
     "text": [
      "tweet 58000 ; 58.0 pct done\n"
     ]
    },
    {
     "name": "stderr",
     "output_type": "stream",
     "text": [
      "Rate limit reached. Sleeping for: 727\n"
     ]
    },
    {
     "name": "stdout",
     "output_type": "stream",
     "text": [
      "tweet 58500 ; 58.5 pct done\n",
      "tweet 59000 ; 59.0 pct done\n"
     ]
    },
    {
     "name": "stderr",
     "output_type": "stream",
     "text": [
      "Rate limit reached. Sleeping for: 741\n"
     ]
    },
    {
     "name": "stdout",
     "output_type": "stream",
     "text": [
      "tweet 59500 ; 59.5 pct done\n",
      "tweet 60000 ; 60.0 pct done\n"
     ]
    },
    {
     "name": "stderr",
     "output_type": "stream",
     "text": [
      "Rate limit reached. Sleeping for: 742\n"
     ]
    },
    {
     "name": "stdout",
     "output_type": "stream",
     "text": [
      "tweet 60500 ; 60.5 pct done\n",
      "tweet 61000 ; 61.0 pct done\n"
     ]
    },
    {
     "name": "stderr",
     "output_type": "stream",
     "text": [
      "Rate limit reached. Sleeping for: 766\n"
     ]
    },
    {
     "name": "stdout",
     "output_type": "stream",
     "text": [
      "tweet 61500 ; 61.5 pct done\n",
      "tweet 62000 ; 62.0 pct done\n"
     ]
    },
    {
     "name": "stderr",
     "output_type": "stream",
     "text": [
      "Rate limit reached. Sleeping for: 770\n"
     ]
    },
    {
     "name": "stdout",
     "output_type": "stream",
     "text": [
      "tweet 62500 ; 62.5 pct done\n"
     ]
    },
    {
     "name": "stderr",
     "output_type": "stream",
     "text": [
      "Rate limit reached. Sleeping for: 771\n"
     ]
    },
    {
     "name": "stdout",
     "output_type": "stream",
     "text": [
      "tweet 63000 ; 63.0 pct done\n",
      "tweet 63500 ; 63.5 pct done\n"
     ]
    },
    {
     "name": "stderr",
     "output_type": "stream",
     "text": [
      "Rate limit reached. Sleeping for: 770\n"
     ]
    },
    {
     "name": "stdout",
     "output_type": "stream",
     "text": [
      "tweet 64000 ; 64.0 pct done\n",
      "tweet 64500 ; 64.5 pct done\n"
     ]
    },
    {
     "name": "stderr",
     "output_type": "stream",
     "text": [
      "Rate limit reached. Sleeping for: 764\n"
     ]
    },
    {
     "name": "stdout",
     "output_type": "stream",
     "text": [
      "tweet 65000 ; 65.0 pct done\n",
      "tweet 65500 ; 65.5 pct done\n"
     ]
    },
    {
     "name": "stderr",
     "output_type": "stream",
     "text": [
      "Rate limit reached. Sleeping for: 764\n"
     ]
    },
    {
     "name": "stdout",
     "output_type": "stream",
     "text": [
      "tweet 66000 ; 66.0 pct done\n",
      "tweet 66500 ; 66.5 pct done\n"
     ]
    },
    {
     "name": "stderr",
     "output_type": "stream",
     "text": [
      "Rate limit reached. Sleeping for: 766\n"
     ]
    },
    {
     "name": "stdout",
     "output_type": "stream",
     "text": [
      "tweet 67000 ; 67.0 pct done\n"
     ]
    },
    {
     "name": "stderr",
     "output_type": "stream",
     "text": [
      "Rate limit reached. Sleeping for: 766\n"
     ]
    },
    {
     "name": "stdout",
     "output_type": "stream",
     "text": [
      "tweet 67500 ; 67.5 pct done\n",
      "tweet 68000 ; 68.0 pct done\n"
     ]
    },
    {
     "name": "stderr",
     "output_type": "stream",
     "text": [
      "Rate limit reached. Sleeping for: 764\n"
     ]
    },
    {
     "name": "stdout",
     "output_type": "stream",
     "text": [
      "tweet 68500 ; 68.5 pct done\n",
      "tweet 69000 ; 69.0 pct done\n"
     ]
    },
    {
     "name": "stderr",
     "output_type": "stream",
     "text": [
      "Rate limit reached. Sleeping for: 767\n"
     ]
    },
    {
     "name": "stdout",
     "output_type": "stream",
     "text": [
      "tweet 69500 ; 69.5 pct done\n",
      "tweet 70000 ; 70.0 pct done\n"
     ]
    },
    {
     "name": "stderr",
     "output_type": "stream",
     "text": [
      "Rate limit reached. Sleeping for: 764\n"
     ]
    },
    {
     "name": "stdout",
     "output_type": "stream",
     "text": [
      "tweet 70500 ; 70.5 pct done\n",
      "tweet 71000 ; 71.0 pct done\n"
     ]
    },
    {
     "name": "stderr",
     "output_type": "stream",
     "text": [
      "Rate limit reached. Sleeping for: 764\n"
     ]
    },
    {
     "name": "stdout",
     "output_type": "stream",
     "text": [
      "tweet 71500 ; 71.5 pct done\n"
     ]
    },
    {
     "name": "stderr",
     "output_type": "stream",
     "text": [
      "Rate limit reached. Sleeping for: 763\n"
     ]
    },
    {
     "name": "stdout",
     "output_type": "stream",
     "text": [
      "tweet 72000 ; 72.0 pct done\n",
      "tweet 72500 ; 72.5 pct done\n"
     ]
    },
    {
     "name": "stderr",
     "output_type": "stream",
     "text": [
      "Rate limit reached. Sleeping for: 765\n"
     ]
    },
    {
     "name": "stdout",
     "output_type": "stream",
     "text": [
      "tweet 73000 ; 73.0 pct done\n",
      "tweet 73500 ; 73.5 pct done\n"
     ]
    },
    {
     "name": "stderr",
     "output_type": "stream",
     "text": [
      "Rate limit reached. Sleeping for: 763\n"
     ]
    },
    {
     "name": "stdout",
     "output_type": "stream",
     "text": [
      "tweet 74000 ; 74.0 pct done\n",
      "tweet 74500 ; 74.5 pct done\n"
     ]
    },
    {
     "name": "stderr",
     "output_type": "stream",
     "text": [
      "Rate limit reached. Sleeping for: 765\n"
     ]
    },
    {
     "name": "stdout",
     "output_type": "stream",
     "text": [
      "tweet 75000 ; 75.0 pct done\n",
      "tweet 75500 ; 75.5 pct done\n"
     ]
    },
    {
     "name": "stderr",
     "output_type": "stream",
     "text": [
      "Rate limit reached. Sleeping for: 762\n"
     ]
    },
    {
     "name": "stdout",
     "output_type": "stream",
     "text": [
      "tweet 76000 ; 76.0 pct done\n"
     ]
    },
    {
     "name": "stderr",
     "output_type": "stream",
     "text": [
      "Rate limit reached. Sleeping for: 764\n"
     ]
    },
    {
     "name": "stdout",
     "output_type": "stream",
     "text": [
      "tweet 76500 ; 76.5 pct done\n",
      "tweet 77000 ; 77.0 pct done\n"
     ]
    },
    {
     "name": "stderr",
     "output_type": "stream",
     "text": [
      "Rate limit reached. Sleeping for: 764\n"
     ]
    },
    {
     "name": "stdout",
     "output_type": "stream",
     "text": [
      "tweet 77500 ; 77.5 pct done\n",
      "tweet 78000 ; 78.0 pct done\n"
     ]
    },
    {
     "name": "stderr",
     "output_type": "stream",
     "text": [
      "Rate limit reached. Sleeping for: 764\n"
     ]
    },
    {
     "name": "stdout",
     "output_type": "stream",
     "text": [
      "tweet 78500 ; 78.5 pct done\n",
      "tweet 79000 ; 79.0 pct done\n"
     ]
    },
    {
     "name": "stderr",
     "output_type": "stream",
     "text": [
      "Rate limit reached. Sleeping for: 765\n"
     ]
    },
    {
     "name": "stdout",
     "output_type": "stream",
     "text": [
      "tweet 79500 ; 79.5 pct done\n",
      "tweet 80000 ; 80.0 pct done\n"
     ]
    },
    {
     "name": "stderr",
     "output_type": "stream",
     "text": [
      "Rate limit reached. Sleeping for: 767\n"
     ]
    },
    {
     "name": "stdout",
     "output_type": "stream",
     "text": [
      "tweet 80500 ; 80.5 pct done\n"
     ]
    },
    {
     "name": "stderr",
     "output_type": "stream",
     "text": [
      "Rate limit reached. Sleeping for: 764\n"
     ]
    },
    {
     "name": "stdout",
     "output_type": "stream",
     "text": [
      "tweet 81000 ; 81.0 pct done\n",
      "tweet 81500 ; 81.5 pct done\n"
     ]
    },
    {
     "name": "stderr",
     "output_type": "stream",
     "text": [
      "Rate limit reached. Sleeping for: 764\n"
     ]
    },
    {
     "name": "stdout",
     "output_type": "stream",
     "text": [
      "tweet 82000 ; 82.0 pct done\n",
      "tweet 82500 ; 82.5 pct done\n"
     ]
    },
    {
     "name": "stderr",
     "output_type": "stream",
     "text": [
      "Rate limit reached. Sleeping for: 769\n"
     ]
    },
    {
     "name": "stdout",
     "output_type": "stream",
     "text": [
      "tweet 83000 ; 83.0 pct done\n",
      "tweet 83500 ; 83.5 pct done\n"
     ]
    },
    {
     "name": "stderr",
     "output_type": "stream",
     "text": [
      "Rate limit reached. Sleeping for: 770\n"
     ]
    },
    {
     "name": "stdout",
     "output_type": "stream",
     "text": [
      "tweet 84000 ; 84.0 pct done\n",
      "tweet 84500 ; 84.5 pct done\n"
     ]
    },
    {
     "name": "stderr",
     "output_type": "stream",
     "text": [
      "Rate limit reached. Sleeping for: 769\n"
     ]
    },
    {
     "name": "stdout",
     "output_type": "stream",
     "text": [
      "tweet 85000 ; 85.0 pct done\n"
     ]
    },
    {
     "name": "stderr",
     "output_type": "stream",
     "text": [
      "Rate limit reached. Sleeping for: 753\n"
     ]
    },
    {
     "name": "stdout",
     "output_type": "stream",
     "text": [
      "tweet 85500 ; 85.5 pct done\n",
      "tweet 86000 ; 86.0 pct done\n"
     ]
    },
    {
     "name": "stderr",
     "output_type": "stream",
     "text": [
      "Rate limit reached. Sleeping for: 767\n"
     ]
    },
    {
     "name": "stdout",
     "output_type": "stream",
     "text": [
      "tweet 86500 ; 86.5 pct done\n",
      "tweet 87000 ; 87.0 pct done\n"
     ]
    },
    {
     "name": "stderr",
     "output_type": "stream",
     "text": [
      "Rate limit reached. Sleeping for: 748\n"
     ]
    },
    {
     "name": "stdout",
     "output_type": "stream",
     "text": [
      "tweet 87500 ; 87.5 pct done\n",
      "tweet 88000 ; 88.0 pct done\n"
     ]
    },
    {
     "name": "stderr",
     "output_type": "stream",
     "text": [
      "Rate limit reached. Sleeping for: 747\n"
     ]
    },
    {
     "name": "stdout",
     "output_type": "stream",
     "text": [
      "tweet 88500 ; 88.5 pct done\n",
      "tweet 89000 ; 89.0 pct done\n"
     ]
    },
    {
     "name": "stderr",
     "output_type": "stream",
     "text": [
      "Rate limit reached. Sleeping for: 747\n"
     ]
    },
    {
     "name": "stdout",
     "output_type": "stream",
     "text": [
      "tweet 89500 ; 89.5 pct done\n"
     ]
    },
    {
     "name": "stderr",
     "output_type": "stream",
     "text": [
      "Rate limit reached. Sleeping for: 732\n"
     ]
    },
    {
     "name": "stdout",
     "output_type": "stream",
     "text": [
      "tweet 90000 ; 90.0 pct done\n",
      "tweet 90500 ; 90.5 pct done\n"
     ]
    },
    {
     "name": "stderr",
     "output_type": "stream",
     "text": [
      "Rate limit reached. Sleeping for: 742\n"
     ]
    },
    {
     "name": "stdout",
     "output_type": "stream",
     "text": [
      "tweet 91000 ; 91.0 pct done\n",
      "tweet 91500 ; 91.5 pct done\n"
     ]
    },
    {
     "name": "stderr",
     "output_type": "stream",
     "text": [
      "Rate limit reached. Sleeping for: 761\n"
     ]
    },
    {
     "name": "stdout",
     "output_type": "stream",
     "text": [
      "tweet 92000 ; 92.0 pct done\n",
      "tweet 92500 ; 92.5 pct done\n"
     ]
    },
    {
     "name": "stderr",
     "output_type": "stream",
     "text": [
      "Rate limit reached. Sleeping for: 730\n"
     ]
    },
    {
     "name": "stdout",
     "output_type": "stream",
     "text": [
      "tweet 93000 ; 93.0 pct done\n",
      "tweet 93500 ; 93.5 pct done\n"
     ]
    },
    {
     "name": "stderr",
     "output_type": "stream",
     "text": [
      "Rate limit reached. Sleeping for: 742\n"
     ]
    },
    {
     "name": "stdout",
     "output_type": "stream",
     "text": [
      "tweet 94000 ; 94.0 pct done\n"
     ]
    },
    {
     "name": "stderr",
     "output_type": "stream",
     "text": [
      "Rate limit reached. Sleeping for: 725\n"
     ]
    },
    {
     "name": "stdout",
     "output_type": "stream",
     "text": [
      "tweet 94500 ; 94.5 pct done\n",
      "tweet 95000 ; 95.0 pct done\n"
     ]
    },
    {
     "name": "stderr",
     "output_type": "stream",
     "text": [
      "Rate limit reached. Sleeping for: 707\n"
     ]
    },
    {
     "name": "stdout",
     "output_type": "stream",
     "text": [
      "tweet 95500 ; 95.5 pct done\n",
      "tweet 96000 ; 96.0 pct done\n"
     ]
    },
    {
     "name": "stderr",
     "output_type": "stream",
     "text": [
      "Rate limit reached. Sleeping for: 763\n"
     ]
    },
    {
     "name": "stdout",
     "output_type": "stream",
     "text": [
      "tweet 96500 ; 96.5 pct done\n",
      "tweet 97000 ; 97.0 pct done\n"
     ]
    },
    {
     "name": "stderr",
     "output_type": "stream",
     "text": [
      "Rate limit reached. Sleeping for: 735\n"
     ]
    },
    {
     "name": "stdout",
     "output_type": "stream",
     "text": [
      "tweet 97500 ; 97.5 pct done\n",
      "tweet 98000 ; 98.0 pct done\n"
     ]
    },
    {
     "name": "stderr",
     "output_type": "stream",
     "text": [
      "Rate limit reached. Sleeping for: 738\n"
     ]
    },
    {
     "name": "stdout",
     "output_type": "stream",
     "text": [
      "tweet 98500 ; 98.5 pct done\n"
     ]
    },
    {
     "name": "stderr",
     "output_type": "stream",
     "text": [
      "Rate limit reached. Sleeping for: 742\n"
     ]
    },
    {
     "name": "stdout",
     "output_type": "stream",
     "text": [
      "tweet 99000 ; 99.0 pct done\n",
      "tweet 99500 ; 99.5 pct done\n"
     ]
    },
    {
     "name": "stderr",
     "output_type": "stream",
     "text": [
      "Rate limit reached. Sleeping for: 737\n"
     ]
    }
   ],
   "source": [
    "# loop through tweet id samples -> filter further\n",
    "all_rows = []\n",
    "columns = ['location','date','likes','retweets','text']\n",
    "\n",
    "for i,id in enumerate(tweet_id_sample): # may need to check tweet_id?\n",
    "    # save to csv every 500 tweets scanned in case of failure\n",
    "    if i % 500 == 0:\n",
    "        print(\"tweet\",i, \";\",round((i)/sample_size * 100,4), \"pct done\")\n",
    "        US_tweets = pd.DataFrame(all_rows,columns=columns)\n",
    "        US_tweets.to_csv('tweet_data/US_covid_tweets.csv',index=False) # change this to reflect year_month\n",
    "    # get tweet from id\n",
    "    try:\n",
    "        status = api.get_status(id, tweet_mode='extended')\n",
    "        locale = status.user.location\n",
    "        # only append if user location in US\n",
    "        if filter_location(locale):\n",
    "            # if retweet, then need to get full text from retweeted_status (og text is truncated in retweet)\n",
    "            if hasattr(status,'retweeted_status'):\n",
    "                full = status.retweeted_status\n",
    "                row=[locale, status.created_at.strftime(\"%Y-%m-%d\"),full.favorite_count, full.retweet_count, full.full_text]\n",
    "            # else, get from status\n",
    "            else:\n",
    "                row=[locale, status.created_at.strftime(\"%Y-%m-%d\"),status.favorite_count, status.retweet_count, status.full_text]\n",
    "            all_rows.append(row)\n",
    "        \n",
    "    except: # usually tweet deleted or user suspended\n",
    "        continue"
   ]
  },
  {
   "cell_type": "code",
   "execution_count": 49,
   "metadata": {},
   "outputs": [
    {
     "name": "stdout",
     "output_type": "stream",
     "text": [
      "5773\n"
     ]
    },
    {
     "data": {
      "text/html": [
       "<div>\n",
       "<style scoped>\n",
       "    .dataframe tbody tr th:only-of-type {\n",
       "        vertical-align: middle;\n",
       "    }\n",
       "\n",
       "    .dataframe tbody tr th {\n",
       "        vertical-align: top;\n",
       "    }\n",
       "\n",
       "    .dataframe thead th {\n",
       "        text-align: right;\n",
       "    }\n",
       "</style>\n",
       "<table border=\"1\" class=\"dataframe\">\n",
       "  <thead>\n",
       "    <tr style=\"text-align: right;\">\n",
       "      <th></th>\n",
       "      <th>location</th>\n",
       "      <th>likes</th>\n",
       "      <th>text</th>\n",
       "      <th>date</th>\n",
       "    </tr>\n",
       "  </thead>\n",
       "  <tbody>\n",
       "    <tr>\n",
       "      <th>0</th>\n",
       "      <td>Minnesota, USA</td>\n",
       "      <td>287188</td>\n",
       "      <td>RT @B52Malmet: CDC confirms second US case of ...</td>\n",
       "      <td>2020-01-24</td>\n",
       "    </tr>\n",
       "    <tr>\n",
       "      <th>4</th>\n",
       "      <td>Chicago, IL</td>\n",
       "      <td>822</td>\n",
       "      <td>RT @ReutersBiz: Coronavirus outbreak may disru...</td>\n",
       "      <td>2020-01-28</td>\n",
       "    </tr>\n",
       "    <tr>\n",
       "      <th>5</th>\n",
       "      <td>California, USA</td>\n",
       "      <td>21186</td>\n",
       "      <td>#Russia has just closed border due to #Coronav...</td>\n",
       "      <td>2020-01-30</td>\n",
       "    </tr>\n",
       "    <tr>\n",
       "      <th>9</th>\n",
       "      <td>The Swamp, DC</td>\n",
       "      <td>88859</td>\n",
       "      <td>RT @AP: BREAKING: Delta Air Lines and American...</td>\n",
       "      <td>2020-01-31</td>\n",
       "    </tr>\n",
       "    <tr>\n",
       "      <th>13</th>\n",
       "      <td>Rockford, IL</td>\n",
       "      <td>480</td>\n",
       "      <td>China Lockdown Spreads To 33 Million People As...</td>\n",
       "      <td>2020-01-24</td>\n",
       "    </tr>\n",
       "  </tbody>\n",
       "</table>\n",
       "</div>"
      ],
      "text/plain": [
       "           location   likes  \\\n",
       "0    Minnesota, USA  287188   \n",
       "4       Chicago, IL     822   \n",
       "5   California, USA   21186   \n",
       "9     The Swamp, DC   88859   \n",
       "13     Rockford, IL     480   \n",
       "\n",
       "                                                 text        date  \n",
       "0   RT @B52Malmet: CDC confirms second US case of ...  2020-01-24  \n",
       "4   RT @ReutersBiz: Coronavirus outbreak may disru...  2020-01-28  \n",
       "5   #Russia has just closed border due to #Coronav...  2020-01-30  \n",
       "9   RT @AP: BREAKING: Delta Air Lines and American...  2020-01-31  \n",
       "13  China Lockdown Spreads To 33 Million People As...  2020-01-24  "
      ]
     },
     "execution_count": 49,
     "metadata": {},
     "output_type": "execute_result"
    }
   ],
   "source": [
    "# Don't need to run this; just correcting a mistake\n",
    "valid_locations = US_tweets['location'].apply(lambda x: filter_location(x))\n",
    "US_tweets = US_tweets.loc[valid_locations]\n",
    "print(len(US_tweets.index)) # end up with 5.7k tweets\n",
    "US_tweets.head()"
   ]
  },
  {
   "cell_type": "code",
   "execution_count": null,
   "metadata": {},
   "outputs": [],
   "source": [
    "# same here; testing\n",
    "# fix_df = pd.read_csv('tweet_data/US_tweets_2020_01.csv')\n",
    "# fix_df.head()\n",
    "num_tweets = len(fix_df.index)\n",
    "print(num_tweets)\n",
    "\n",
    "all_rows = []\n",
    "fixed_cols = ['id','location','text','favorites','retweets','quotes','replies']\n",
    "# full archive search setup here: https://developer.twitter.com/en/account/environments # LIMITED TO 50 requests\n",
    "for i,tweet in fix_df.head(1).iterrows():\n",
    "    if i % 100 == 0:\n",
    "        print(\"tweet\",i,\";\",round(i/num_tweets * 100,4), \"pct done\")\n",
    "        \n",
    "    date_str = datetime.strftime(datetime.strptime(tweet.date,\"%m/%d/%Y\"),\"%Y%m%d\")\n",
    "    tweet_text = tweet.text.replace(':','')[:128]\n",
    "    # print(tweet.location,tweet.date)\n",
    "    results = api.search_full_archive(label = 'individualTweetSearch', query=tweet_text, fromDate=date_str+'0000',toDate=date_str+'2359')\n",
    "    for r in results:\n",
    "        user = r.user\n",
    "        full = r.retweeted_status\n",
    "        if user.location == tweet.location: # found match\n",
    "            # new row\n",
    "            row = [r.id,user.location,full.extended_tweet.get('full_text'),\n",
    "                full.favorite_count,full.retweet_count,full.quote_count,full.reply_count]\n",
    "            all_rows.append(row)\n",
    "            # break when found\n",
    "            break\n",
    "fixed_df = pd.DataFrame(all_rows,columns=fixed_cols)\n",
    "fixed_df.to_csv('fixed_df.csv',index=False)"
   ]
  }
 ],
 "metadata": {
  "interpreter": {
   "hash": "16e3b9799879e24d92f4a6010a8e3548b08661ef551ca0704bdd958592137b13"
  },
  "kernelspec": {
   "display_name": "Python 3.10.1 64-bit",
   "language": "python",
   "name": "python3"
  },
  "language_info": {
   "codemirror_mode": {
    "name": "ipython",
    "version": 3
   },
   "file_extension": ".py",
   "mimetype": "text/x-python",
   "name": "python",
   "nbconvert_exporter": "python",
   "pygments_lexer": "ipython3",
   "version": "3.8.6"
  },
  "orig_nbformat": 4
 },
 "nbformat": 4,
 "nbformat_minor": 2
}
