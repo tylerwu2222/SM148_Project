{
 "cells": [
  {
   "cell_type": "code",
   "execution_count": 11,
   "metadata": {},
   "outputs": [],
   "source": [
    "import pandas as pd\n",
    "import numpy as np\n",
    "\n",
    "# location processing\n",
    "# from geotext import GeoText\n",
    "from geopy import geocoders  \n",
    "# import geocoder\n",
    "# import requests\n",
    "\n",
    "import multiprocessing as mp\n",
    "from multiprocessing import Pool, Array, Lock\n",
    "from time import time\n",
    "from joblib import delayed, Parallel"
   ]
  },
  {
   "cell_type": "code",
   "execution_count": 16,
   "metadata": {},
   "outputs": [
    {
     "data": {
      "text/html": [
       "<div>\n",
       "<style scoped>\n",
       "    .dataframe tbody tr th:only-of-type {\n",
       "        vertical-align: middle;\n",
       "    }\n",
       "\n",
       "    .dataframe tbody tr th {\n",
       "        vertical-align: top;\n",
       "    }\n",
       "\n",
       "    .dataframe thead th {\n",
       "        text-align: right;\n",
       "    }\n",
       "</style>\n",
       "<table border=\"1\" class=\"dataframe\">\n",
       "  <thead>\n",
       "    <tr style=\"text-align: right;\">\n",
       "      <th></th>\n",
       "      <th>tweet_id</th>\n",
       "      <th>location</th>\n",
       "      <th>date</th>\n",
       "      <th>likes</th>\n",
       "      <th>retweets</th>\n",
       "      <th>text</th>\n",
       "      <th>index</th>\n",
       "      <th>city</th>\n",
       "      <th>state</th>\n",
       "      <th>is_state</th>\n",
       "      <th>...</th>\n",
       "      <th>Total_Test_Results</th>\n",
       "      <th>Case_Fatality_Ratio</th>\n",
       "      <th>Testing_Rate</th>\n",
       "      <th>People_Tested</th>\n",
       "      <th>Mortality_Rate</th>\n",
       "      <th>polarity_neg</th>\n",
       "      <th>polarity_pos</th>\n",
       "      <th>polarity_compound</th>\n",
       "      <th>polarity_classif</th>\n",
       "      <th>polarity_classif2</th>\n",
       "    </tr>\n",
       "  </thead>\n",
       "  <tbody>\n",
       "    <tr>\n",
       "      <th>0</th>\n",
       "      <td>1.250000e+18</td>\n",
       "      <td>Pomona, CA</td>\n",
       "      <td>4/4/2020</td>\n",
       "      <td>89921</td>\n",
       "      <td>34665</td>\n",
       "      <td>A day without Hispanics .... this country coul...</td>\n",
       "      <td>1</td>\n",
       "      <td>Pomona</td>\n",
       "      <td>California</td>\n",
       "      <td>False</td>\n",
       "      <td>...</td>\n",
       "      <td>NaN</td>\n",
       "      <td>NaN</td>\n",
       "      <td>NaN</td>\n",
       "      <td>NaN</td>\n",
       "      <td>NaN</td>\n",
       "      <td>0.0</td>\n",
       "      <td>0.0</td>\n",
       "      <td>0.0</td>\n",
       "      <td>0</td>\n",
       "      <td>0</td>\n",
       "    </tr>\n",
       "  </tbody>\n",
       "</table>\n",
       "<p>1 rows × 37 columns</p>\n",
       "</div>"
      ],
      "text/plain": [
       "       tweet_id    location      date  likes  retweets  \\\n",
       "0  1.250000e+18  Pomona, CA  4/4/2020  89921     34665   \n",
       "\n",
       "                                                text  index    city  \\\n",
       "0  A day without Hispanics .... this country coul...      1  Pomona   \n",
       "\n",
       "        state  is_state  ... Total_Test_Results Case_Fatality_Ratio  \\\n",
       "0  California     False  ...                NaN                 NaN   \n",
       "\n",
       "  Testing_Rate People_Tested  Mortality_Rate  polarity_neg polarity_pos  \\\n",
       "0          NaN           NaN             NaN           0.0          0.0   \n",
       "\n",
       "  polarity_compound polarity_classif  polarity_classif2  \n",
       "0               0.0                0                  0  \n",
       "\n",
       "[1 rows x 37 columns]"
      ]
     },
     "execution_count": 16,
     "metadata": {},
     "output_type": "execute_result"
    }
   ],
   "source": [
    "all_data = pd.read_csv('../complete_data/complete_data_sentiment.csv')\n",
    "all_data.head(1)"
   ]
  },
  {
   "cell_type": "code",
   "execution_count": 17,
   "metadata": {},
   "outputs": [],
   "source": [
    "# returns coordinates given location\n",
    "def get_coords2(i,loc,gn):\n",
    "    if i %3 == 0:\n",
    "        print('location',i,':',loc)\n",
    "    try:\n",
    "        location = gn.geocode(loc,exactly_one=False)\n",
    "        coords = location[0][1]\n",
    "        # print(coords)\n",
    "    except:\n",
    "        coords = (None,None)\n",
    "    return coords"
   ]
  },
  {
   "cell_type": "code",
   "execution_count": 19,
   "metadata": {},
   "outputs": [],
   "source": [
    "pool = mp.Pool()\n",
    "# NUM_CPUS=8\n",
    "gn = geocoders.GeoNames(username='tylerwu')\n",
    "unique_locs = all_data.location.unique()\n",
    "index = range(0,len(unique_locs))\n",
    "# index[:3]\n",
    "coord_dict = [pool.apply(get_coords2, args=(i, unique_locs[i], gn)) for i in index[:32]] # mp package\n",
    "# coord_dict = Parallel(n_jobs=NUM_CPUS)(delayed(get_coords2)(i,unique_locs[i],gn) for i in index[:10]) #joblib package\n",
    "# coord_dict = {unique_locs[i]:get_coords2(i,unique_locs[i], gn) for i in index[:10]} # old-fashioned\n",
    "# # pool.close()\n",
    "coord_dict"
   ]
  }
 ],
 "metadata": {
  "interpreter": {
   "hash": "16e3b9799879e24d92f4a6010a8e3548b08661ef551ca0704bdd958592137b13"
  },
  "kernelspec": {
   "display_name": "Python 3.10.1 64-bit",
   "language": "python",
   "name": "python3"
  },
  "language_info": {
   "codemirror_mode": {
    "name": "ipython",
    "version": 3
   },
   "file_extension": ".py",
   "mimetype": "text/x-python",
   "name": "python",
   "nbconvert_exporter": "python",
   "pygments_lexer": "ipython3",
   "version": "3.10.1"
  },
  "orig_nbformat": 4
 },
 "nbformat": 4,
 "nbformat_minor": 2
}
