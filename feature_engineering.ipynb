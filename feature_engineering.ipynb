{
 "cells": [
  {
   "cell_type": "code",
   "execution_count": 1,
   "metadata": {},
   "outputs": [],
   "source": [
    "import pandas as pd\n",
    "import numpy as np\n",
    "from textblob import TextBlob\n",
    "# import wordcloud\n",
    "# from wordcloud import WordCloud, STOPWORDS, ImageColorGenerator\n",
    "\n",
    "# from geopy.geocoders import Nominatim\n",
    "from geotext import GeoText\n",
    "\n",
    "import matplotlib.pyplot as plt\n",
    "\n",
    "from collections import Counter\n",
    "from datetime import datetime"
   ]
  },
  {
   "cell_type": "markdown",
   "metadata": {},
   "source": [
    "### Merge data from all months"
   ]
  },
  {
   "cell_type": "code",
   "execution_count": 2,
   "metadata": {},
   "outputs": [
    {
     "name": "stdout",
     "output_type": "stream",
     "text": [
      "model_test_data.csv\n",
      "model_test_data_with_sentiment.csv\n",
      "tweets_2020_01_truncated.csv\n",
      "tweets_2020_04.csv\n",
      "tweets_2020_05.csv\n",
      "tweets_2020_06.csv\n",
      "tweets_2020_07.csv\n",
      "tweets_2020_08.csv\n",
      "tweets_2020_09.csv\n",
      "tweets_2020_10.csv\n",
      "tweets_2020_11.csv\n",
      "tweets_2020_12.csv\n",
      "tweets_2021_01.csv\n",
      "tweets_2021_02.csv\n",
      "tweets_2021_03.csv\n",
      "tweets_2021_04.csv\n",
      "tweets_2021_05.csv\n",
      "tweets_2021_06.csv\n",
      "tweets_2021_07.csv\n",
      "tweets_2021_08.csv\n",
      "tweets_2021_12.csv\n"
     ]
    }
   ],
   "source": [
    "# merge all month data\n",
    "files = os.listdir('tweet_data')\n",
    "for f in files:\n",
    "    print(f)"
   ]
  },
  {
   "cell_type": "markdown",
   "metadata": {},
   "source": [
    "### Adding location columns"
   ]
  },
  {
   "cell_type": "code",
   "execution_count": 60,
   "metadata": {},
   "outputs": [
    {
     "data": {
      "text/html": [
       "<div>\n",
       "<style scoped>\n",
       "    .dataframe tbody tr th:only-of-type {\n",
       "        vertical-align: middle;\n",
       "    }\n",
       "\n",
       "    .dataframe tbody tr th {\n",
       "        vertical-align: top;\n",
       "    }\n",
       "\n",
       "    .dataframe thead th {\n",
       "        text-align: right;\n",
       "    }\n",
       "</style>\n",
       "<table border=\"1\" class=\"dataframe\">\n",
       "  <thead>\n",
       "    <tr style=\"text-align: right;\">\n",
       "      <th></th>\n",
       "      <th>tweet_id</th>\n",
       "      <th>location</th>\n",
       "      <th>date</th>\n",
       "      <th>likes</th>\n",
       "      <th>retweets</th>\n",
       "      <th>text</th>\n",
       "    </tr>\n",
       "  </thead>\n",
       "  <tbody>\n",
       "    <tr>\n",
       "      <th>0</th>\n",
       "      <td>1298433064687763457</td>\n",
       "      <td>Brooklyn, NY</td>\n",
       "      <td>2020-08-26</td>\n",
       "      <td>1458</td>\n",
       "      <td>861</td>\n",
       "      <td>Wearing a mask in public is an important way t...</td>\n",
       "    </tr>\n",
       "    <tr>\n",
       "      <th>1</th>\n",
       "      <td>1294720321392541696</td>\n",
       "      <td>Sonoma, CA</td>\n",
       "      <td>2020-08-15</td>\n",
       "      <td>12739</td>\n",
       "      <td>4537</td>\n",
       "      <td>Canada shares a 5500 mile border with the US. ...</td>\n",
       "    </tr>\n",
       "    <tr>\n",
       "      <th>2</th>\n",
       "      <td>1296797780179144704</td>\n",
       "      <td>Oakland, NJ</td>\n",
       "      <td>2020-08-21</td>\n",
       "      <td>310</td>\n",
       "      <td>58</td>\n",
       "      <td>The Braves and Nats got rained out yesterday. ...</td>\n",
       "    </tr>\n",
       "    <tr>\n",
       "      <th>3</th>\n",
       "      <td>1296941201111879692</td>\n",
       "      <td>Fort Wayne, IN</td>\n",
       "      <td>2020-08-21</td>\n",
       "      <td>2</td>\n",
       "      <td>0</td>\n",
       "      <td>Purdue is kicking out anyone who dont go by so...</td>\n",
       "    </tr>\n",
       "    <tr>\n",
       "      <th>4</th>\n",
       "      <td>1289823031599087616</td>\n",
       "      <td>Los Angeles, CA</td>\n",
       "      <td>2020-08-02</td>\n",
       "      <td>1979</td>\n",
       "      <td>695</td>\n",
       "      <td>The day camp my son went to was limited to 60 ...</td>\n",
       "    </tr>\n",
       "  </tbody>\n",
       "</table>\n",
       "</div>"
      ],
      "text/plain": [
       "              tweet_id         location        date  likes  retweets  \\\n",
       "0  1298433064687763457     Brooklyn, NY  2020-08-26   1458       861   \n",
       "1  1294720321392541696       Sonoma, CA  2020-08-15  12739      4537   \n",
       "2  1296797780179144704      Oakland, NJ  2020-08-21    310        58   \n",
       "3  1296941201111879692   Fort Wayne, IN  2020-08-21      2         0   \n",
       "4  1289823031599087616  Los Angeles, CA  2020-08-02   1979       695   \n",
       "\n",
       "                                                text  \n",
       "0  Wearing a mask in public is an important way t...  \n",
       "1  Canada shares a 5500 mile border with the US. ...  \n",
       "2  The Braves and Nats got rained out yesterday. ...  \n",
       "3  Purdue is kicking out anyone who dont go by so...  \n",
       "4  The day camp my son went to was limited to 60 ...  "
      ]
     },
     "execution_count": 60,
     "metadata": {},
     "output_type": "execute_result"
    }
   ],
   "source": [
    "data = pd.read_csv('tweet_data/tweets_2020_08.csv')\n",
    "data.head()"
   ]
  },
  {
   "cell_type": "code",
   "execution_count": 2,
   "metadata": {},
   "outputs": [],
   "source": [
    "state_abbrs = [ 'AK', 'AL', 'AR', 'AZ', 'CA', 'CO', 'CT', 'DC', 'DE', 'FL', 'GA',\n",
    "           'HI', 'IA', 'ID', 'IL', 'IN', 'KS', 'KY', 'LA', 'MA', 'MD', 'ME',\n",
    "           'MI', 'MN', 'MO', 'MS', 'MT', 'NC', 'ND', 'NE', 'NH', 'NJ', 'NM',\n",
    "           'NV', 'NY', 'OH', 'OK', 'OR', 'PA', 'RI', 'SC', 'SD', 'TN', 'TX',\n",
    "           'UT', 'VA', 'VT', 'WA', 'WI', 'WV', 'WY']\n",
    "states = [\"Alaska\", \"Alabama\", \"Arkansas\", \"American Samoa\", \n",
    "            \"Arizona\", \"California\", \"Colorado\", \"Connecticut\", \"District of Columbia\",\n",
    "            \"Delaware\", \"Florida\", \"Georgia\", \"Guam\", \"Hawaii\", \"Iowa\", \"Idaho\", \n",
    "            \"Illinois\", \"Indiana\", \"Kansas\", \"Kentucky\", \"Louisiana\", \"Massachusetts\", \n",
    "            \"Maryland\", \"Maine\", \"Michigan\", \"Minnesota\", \"Missouri\", \"Mississippi\", \n",
    "            \"Montana\", \"North Carolina\", \"North Dakota\", \"Nebraska\", \"New Hampshire\", \"New Jersey\", \n",
    "            \"New Mexico\", \"Nevada\", \"New York\", \"Ohio\", \"Oklahoma\", \"Oregon\", \"Pennsylvania\", \n",
    "            \"Puerto Rico\", \"Rhode Island\", \"South Carolina\", \"South Dakota\", \"Tennessee\", \"Texas\", \n",
    "            \"Utah\", \"Virginia\", \"Virgin Islands\", \"Vermont\", \"Washington\", \"Wisconsin\", \"West Virginia\", \n",
    "            \"Wyoming\"]\n",
    "us_state_to_abbrev = {\n",
    "    \"Alabama\": \"AL\",\n",
    "    \"Alaska\": \"AK\",\n",
    "    \"Arizona\": \"AZ\",\n",
    "    \"Arkansas\": \"AR\",\n",
    "    \"California\": \"CA\",\n",
    "    \"Colorado\": \"CO\",\n",
    "    \"Connecticut\": \"CT\",\n",
    "    \"Delaware\": \"DE\",\n",
    "    \"Florida\": \"FL\",\n",
    "    \"Georgia\": \"GA\",\n",
    "    \"Hawaii\": \"HI\",\n",
    "    \"Idaho\": \"ID\",\n",
    "    \"Illinois\": \"IL\",\n",
    "    \"Indiana\": \"IN\",\n",
    "    \"Iowa\": \"IA\",\n",
    "    \"Kansas\": \"KS\",\n",
    "    \"Kentucky\": \"KY\",\n",
    "    \"Louisiana\": \"LA\",\n",
    "    \"Maine\": \"ME\",\n",
    "    \"Maryland\": \"MD\",\n",
    "    \"Massachusetts\": \"MA\",\n",
    "    \"Michigan\": \"MI\",\n",
    "    \"Minnesota\": \"MN\",\n",
    "    \"Mississippi\": \"MS\",\n",
    "    \"Missouri\": \"MO\",\n",
    "    \"Montana\": \"MT\",\n",
    "    \"Nebraska\": \"NE\",\n",
    "    \"Nevada\": \"NV\",\n",
    "    \"New Hampshire\": \"NH\",\n",
    "    \"New Jersey\": \"NJ\",\n",
    "    \"New Mexico\": \"NM\",\n",
    "    \"New York\": \"NY\",\n",
    "    \"North Carolina\": \"NC\",\n",
    "    \"North Dakota\": \"ND\",\n",
    "    \"Ohio\": \"OH\",\n",
    "    \"Oklahoma\": \"OK\",\n",
    "    \"Oregon\": \"OR\",\n",
    "    \"Pennsylvania\": \"PA\",\n",
    "    \"Rhode Island\": \"RI\",\n",
    "    \"South Carolina\": \"SC\",\n",
    "    \"South Dakota\": \"SD\",\n",
    "    \"Tennessee\": \"TN\",\n",
    "    \"Texas\": \"TX\",\n",
    "    \"Utah\": \"UT\",\n",
    "    \"Vermont\": \"VT\",\n",
    "    \"Virginia\": \"VA\",\n",
    "    \"Washington\": \"WA\",\n",
    "    \"West Virginia\": \"WV\",\n",
    "    \"Wisconsin\": \"WI\",\n",
    "    \"Wyoming\": \"WY\",\n",
    "    \"District of Columbia\": \"DC\",\n",
    "    \"American Samoa\": \"AS\",\n",
    "    \"Guam\": \"GU\",\n",
    "    \"Northern Mariana Islands\": \"MP\",\n",
    "    \"Puerto Rico\": \"PR\",\n",
    "    \"United States Minor Outlying Islands\": \"UM\",\n",
    "    \"U.S. Virgin Islands\": \"VI\",\n",
    "}\n",
    "    \n",
    "# invert the dictionary\n",
    "abbrev_to_us_state = dict(map(reversed, us_state_to_abbrev.items()))\n",
    "names_of_us = ['us','usa','united states','united states of america']"
   ]
  },
  {
   "cell_type": "code",
   "execution_count": 1,
   "metadata": {},
   "outputs": [
    {
     "ename": "NameError",
     "evalue": "name 'GeoText' is not defined",
     "output_type": "error",
     "traceback": [
      "\u001b[1;31m---------------------------------------------------------------------------\u001b[0m",
      "\u001b[1;31mNameError\u001b[0m                                 Traceback (most recent call last)",
      "\u001b[1;32m~\\AppData\\Local\\Temp/ipykernel_16008/577248778.py\u001b[0m in \u001b[0;36m<module>\u001b[1;34m\u001b[0m\n\u001b[0;32m      1\u001b[0m \u001b[1;31m# testing geotext\u001b[0m\u001b[1;33m\u001b[0m\u001b[1;33m\u001b[0m\u001b[0m\n\u001b[1;32m----> 2\u001b[1;33m \u001b[0mplaces\u001b[0m \u001b[1;33m=\u001b[0m \u001b[0mGeoText\u001b[0m\u001b[1;33m(\u001b[0m\u001b[1;34m'California, USA'\u001b[0m\u001b[1;33m)\u001b[0m\u001b[1;33m\u001b[0m\u001b[1;33m\u001b[0m\u001b[0m\n\u001b[0m\u001b[0;32m      3\u001b[0m \u001b[0mplaces\u001b[0m\u001b[1;33m.\u001b[0m\u001b[0mcities\u001b[0m\u001b[1;33m\u001b[0m\u001b[1;33m\u001b[0m\u001b[0m\n",
      "\u001b[1;31mNameError\u001b[0m: name 'GeoText' is not defined"
     ]
    }
   ],
   "source": [
    "# testing geotext\n",
    "places = GeoText('California, USA')\n",
    "places.cities"
   ]
  },
  {
   "cell_type": "code",
   "execution_count": 12,
   "metadata": {},
   "outputs": [],
   "source": [
    "# function to add standardized location columns\n",
    "def standardize_location(row):\n",
    "      # row['lower_location'] = row.location.lower()\n",
    "      city = GeoText(row.location).cities # check if city in geotexts list of cities\n",
    "      location_split = row.location.split(', ')\n",
    "      if location_split[1].lower() in names_of_us: # lower() for Usa, USA, etc.\n",
    "            row['city'] = 'Not City'\n",
    "            row['state'] = location_split[0]\n",
    "            row['is_state'] = True\n",
    "      elif location_split[1].upper() in state_abbrs:\n",
    "            row['city'] = location_split[0]\n",
    "            row['state'] = abbrev_to_us_state.get(location_split[1].upper()) # upper() handles cases like: Ca, or tx\n",
    "            row['is_state'] = False\n",
    "      elif city:\n",
    "            row['city'] = city[0]\n",
    "            row['state'] = location_split[1]\n",
    "            row['is_state'] = False\n",
    "      else:\n",
    "            row['city'] = 'Not City'\n",
    "            row['state'] = location_split[0]\n",
    "            row['is_state'] = True\n",
    "      row['state_abbr'] = us_state_to_abbrev.get(row['state'])\n",
    "      try:\n",
    "            row['city_and_state'] = row['city'] + ', ' +  row['state']\n",
    "      except:\n",
    "            print(row, row['city'], row['state'], row['state_abbr'])\n",
    "      return row"
   ]
  },
  {
   "cell_type": "code",
   "execution_count": 4,
   "metadata": {},
   "outputs": [],
   "source": [
    "# creating test data from 4 months\n",
    "d1 = pd.read_csv('tweet_data/tweets_2020_04.csv')\n",
    "d2 = pd.read_csv('tweet_data/tweets_2020_08.csv')\n",
    "d3 = pd.read_csv('tweet_data/tweets_2020_12.csv')\n",
    "d4 = pd.read_csv('tweet_data/tweets_2021_04.csv')\n",
    "d2.head()\n",
    "pdList = [d1,d2,d3,d4]\n",
    "df_all = pd.concat(pdList)"
   ]
  },
  {
   "cell_type": "code",
   "execution_count": 13,
   "metadata": {},
   "outputs": [],
   "source": [
    "df_all = df_all.apply(lambda row: standardize_location(row),axis=1)\n",
    "df_all.to_csv('tweet_data/model_test_data2.csv',index=False)"
   ]
  },
  {
   "cell_type": "markdown",
   "metadata": {},
   "source": [
    "### Join mask data with twitter data"
   ]
  },
  {
   "cell_type": "code",
   "execution_count": 6,
   "metadata": {},
   "outputs": [
    {
     "data": {
      "text/html": [
       "<div>\n",
       "<style scoped>\n",
       "    .dataframe tbody tr th:only-of-type {\n",
       "        vertical-align: middle;\n",
       "    }\n",
       "\n",
       "    .dataframe tbody tr th {\n",
       "        vertical-align: top;\n",
       "    }\n",
       "\n",
       "    .dataframe thead th {\n",
       "        text-align: right;\n",
       "    }\n",
       "</style>\n",
       "<table border=\"1\" class=\"dataframe\">\n",
       "  <thead>\n",
       "    <tr style=\"text-align: right;\">\n",
       "      <th></th>\n",
       "      <th>State_Tribe_Territory</th>\n",
       "      <th>date</th>\n",
       "      <th>Face_Masks_Required_in_Public</th>\n",
       "    </tr>\n",
       "  </thead>\n",
       "  <tbody>\n",
       "    <tr>\n",
       "      <th>0</th>\n",
       "      <td>AL</td>\n",
       "      <td>4/10/2020</td>\n",
       "      <td>No</td>\n",
       "    </tr>\n",
       "    <tr>\n",
       "      <th>1</th>\n",
       "      <td>AL</td>\n",
       "      <td>4/11/2020</td>\n",
       "      <td>No</td>\n",
       "    </tr>\n",
       "    <tr>\n",
       "      <th>2</th>\n",
       "      <td>AL</td>\n",
       "      <td>4/12/2020</td>\n",
       "      <td>No</td>\n",
       "    </tr>\n",
       "    <tr>\n",
       "      <th>3</th>\n",
       "      <td>AL</td>\n",
       "      <td>4/13/2020</td>\n",
       "      <td>No</td>\n",
       "    </tr>\n",
       "    <tr>\n",
       "      <th>4</th>\n",
       "      <td>AL</td>\n",
       "      <td>4/14/2020</td>\n",
       "      <td>No</td>\n",
       "    </tr>\n",
       "  </tbody>\n",
       "</table>\n",
       "</div>"
      ],
      "text/plain": [
       "  State_Tribe_Territory       date Face_Masks_Required_in_Public\n",
       "0                    AL  4/10/2020                            No\n",
       "1                    AL  4/11/2020                            No\n",
       "2                    AL  4/12/2020                            No\n",
       "3                    AL  4/13/2020                            No\n",
       "4                    AL  4/14/2020                            No"
      ]
     },
     "execution_count": 6,
     "metadata": {},
     "output_type": "execute_result"
    }
   ],
   "source": [
    "mask_data = pd.read_csv('mask_mandate_no_na_smaller.csv')\n",
    "mask_data_sm = mask_data.iloc[:,[1,5,7]]\n",
    "mask_data_sm = mask_data_sm.drop_duplicates()\n",
    "mask_data_sm.head()"
   ]
  },
  {
   "cell_type": "code",
   "execution_count": 18,
   "metadata": {},
   "outputs": [
    {
     "data": {
      "text/plain": [
       "array(['AL', 'AK', 'AZ', 'AR', 'CA', 'CO', 'CT', 'DE', 'DC', 'FL', 'GA',\n",
       "       'HI', 'ID', 'IL', 'IN', 'IA', 'KS', 'KY', 'LA', 'ME', 'MD', 'MA',\n",
       "       'MI', 'MN', 'MS', 'MO', 'MT', 'NE', 'NV', 'NH', 'NJ', 'NM', 'NY',\n",
       "       'NC', 'ND', 'OH', 'OK', 'OR', 'PA', 'RI', 'SC', 'SD', 'TN', 'TX',\n",
       "       'UT', 'VT', 'VA', 'WA', 'WV', 'WI', 'WY', 'AS', 'GU', 'MP', 'PR',\n",
       "       'VI'], dtype=object)"
      ]
     },
     "execution_count": 18,
     "metadata": {},
     "output_type": "execute_result"
    }
   ],
   "source": [
    "mask_data_sm.loc[mask_data_sm.date == '8/17/2020',:].State_Tribe_Territory.unique()"
   ]
  },
  {
   "cell_type": "code",
   "execution_count": 23,
   "metadata": {},
   "outputs": [],
   "source": [
    "# df_all = pd.read_csv('tweet_data/model_test_data.csv')\n",
    "# FOUND ISSUE: tweet data's date column has different formats Y-M-D and M/D/Y\n",
    "# change all to /\n",
    "df_all['date'] = pd.to_datetime(df_all['date']).dt.strftime('%#m/%#d/%Y')"
   ]
  },
  {
   "cell_type": "code",
   "execution_count": 24,
   "metadata": {},
   "outputs": [
    {
     "data": {
      "text/html": [
       "<div>\n",
       "<style scoped>\n",
       "    .dataframe tbody tr th:only-of-type {\n",
       "        vertical-align: middle;\n",
       "    }\n",
       "\n",
       "    .dataframe tbody tr th {\n",
       "        vertical-align: top;\n",
       "    }\n",
       "\n",
       "    .dataframe thead th {\n",
       "        text-align: right;\n",
       "    }\n",
       "</style>\n",
       "<table border=\"1\" class=\"dataframe\">\n",
       "  <thead>\n",
       "    <tr style=\"text-align: right;\">\n",
       "      <th></th>\n",
       "      <th>tweet_id</th>\n",
       "      <th>location</th>\n",
       "      <th>date</th>\n",
       "      <th>likes</th>\n",
       "      <th>retweets</th>\n",
       "      <th>text</th>\n",
       "      <th>city</th>\n",
       "      <th>state</th>\n",
       "      <th>is_state</th>\n",
       "      <th>state_abbr</th>\n",
       "      <th>city_and_state</th>\n",
       "      <th>State_Tribe_Territory</th>\n",
       "      <th>Face_Masks_Required_in_Public</th>\n",
       "    </tr>\n",
       "  </thead>\n",
       "  <tbody>\n",
       "    <tr>\n",
       "      <th>0</th>\n",
       "      <td>1.246230e+18</td>\n",
       "      <td>Pomona, CA</td>\n",
       "      <td>4/4/2020</td>\n",
       "      <td>89921</td>\n",
       "      <td>34665</td>\n",
       "      <td>A day without Hispanics .... this country coul...</td>\n",
       "      <td>Pomona</td>\n",
       "      <td>California</td>\n",
       "      <td>False</td>\n",
       "      <td>CA</td>\n",
       "      <td>Pomona, California</td>\n",
       "      <td>NaN</td>\n",
       "      <td>NaN</td>\n",
       "    </tr>\n",
       "    <tr>\n",
       "      <th>1</th>\n",
       "      <td>1.252680e+18</td>\n",
       "      <td>Santa Barbara, CA</td>\n",
       "      <td>4/21/2020</td>\n",
       "      <td>34308</td>\n",
       "      <td>5245</td>\n",
       "      <td>XO face masks are back to raise money and I’ll...</td>\n",
       "      <td>Santa Barbara</td>\n",
       "      <td>California</td>\n",
       "      <td>False</td>\n",
       "      <td>CA</td>\n",
       "      <td>Santa Barbara, California</td>\n",
       "      <td>CA</td>\n",
       "      <td>No</td>\n",
       "    </tr>\n",
       "    <tr>\n",
       "      <th>2</th>\n",
       "      <td>1.252390e+18</td>\n",
       "      <td>California, USA</td>\n",
       "      <td>4/21/2020</td>\n",
       "      <td>0</td>\n",
       "      <td>0</td>\n",
       "      <td>@ImKingGinger Well aren't you special? My rela...</td>\n",
       "      <td>Not City</td>\n",
       "      <td>California</td>\n",
       "      <td>True</td>\n",
       "      <td>CA</td>\n",
       "      <td>Not City, California</td>\n",
       "      <td>CA</td>\n",
       "      <td>No</td>\n",
       "    </tr>\n",
       "    <tr>\n",
       "      <th>3</th>\n",
       "      <td>1.251870e+18</td>\n",
       "      <td>Arizona, USA</td>\n",
       "      <td>4/19/2020</td>\n",
       "      <td>4</td>\n",
       "      <td>0</td>\n",
       "      <td>@seanhannity If I was to stay home and eat ice...</td>\n",
       "      <td>Not City</td>\n",
       "      <td>Arizona</td>\n",
       "      <td>True</td>\n",
       "      <td>AZ</td>\n",
       "      <td>Not City, Arizona</td>\n",
       "      <td>AZ</td>\n",
       "      <td>No</td>\n",
       "    </tr>\n",
       "    <tr>\n",
       "      <th>4</th>\n",
       "      <td>1.247010e+18</td>\n",
       "      <td>Medford, MA</td>\n",
       "      <td>4/6/2020</td>\n",
       "      <td>0</td>\n",
       "      <td>0</td>\n",
       "      <td>@MisagaLion @tedpanos Yup, CT. Governor spoke ...</td>\n",
       "      <td>Medford</td>\n",
       "      <td>Massachusetts</td>\n",
       "      <td>False</td>\n",
       "      <td>MA</td>\n",
       "      <td>Medford, Massachusetts</td>\n",
       "      <td>NaN</td>\n",
       "      <td>NaN</td>\n",
       "    </tr>\n",
       "  </tbody>\n",
       "</table>\n",
       "</div>"
      ],
      "text/plain": [
       "       tweet_id           location       date  likes  retweets  \\\n",
       "0  1.246230e+18         Pomona, CA   4/4/2020  89921     34665   \n",
       "1  1.252680e+18  Santa Barbara, CA  4/21/2020  34308      5245   \n",
       "2  1.252390e+18    California, USA  4/21/2020      0         0   \n",
       "3  1.251870e+18       Arizona, USA  4/19/2020      4         0   \n",
       "4  1.247010e+18        Medford, MA   4/6/2020      0         0   \n",
       "\n",
       "                                                text           city  \\\n",
       "0  A day without Hispanics .... this country coul...         Pomona   \n",
       "1  XO face masks are back to raise money and I’ll...  Santa Barbara   \n",
       "2  @ImKingGinger Well aren't you special? My rela...       Not City   \n",
       "3  @seanhannity If I was to stay home and eat ice...       Not City   \n",
       "4  @MisagaLion @tedpanos Yup, CT. Governor spoke ...        Medford   \n",
       "\n",
       "           state  is_state state_abbr             city_and_state  \\\n",
       "0     California     False         CA         Pomona, California   \n",
       "1     California     False         CA  Santa Barbara, California   \n",
       "2     California      True         CA       Not City, California   \n",
       "3        Arizona      True         AZ          Not City, Arizona   \n",
       "4  Massachusetts     False         MA     Medford, Massachusetts   \n",
       "\n",
       "  State_Tribe_Territory Face_Masks_Required_in_Public  \n",
       "0                   NaN                           NaN  \n",
       "1                    CA                            No  \n",
       "2                    CA                            No  \n",
       "3                    AZ                            No  \n",
       "4                   NaN                           NaN  "
      ]
     },
     "execution_count": 24,
     "metadata": {},
     "output_type": "execute_result"
    }
   ],
   "source": [
    "# merge with mask mandate data\n",
    "# mask_data_sm.iloc[:,0].unique() # no NA states\n",
    "# mask_data_sm.iloc[:,2].unique() # no NA mandates, (all no, yes) \n",
    "# print(len(mask_data_sm.index),len(df_all.index)) # 27807 29053\n",
    "# state_abbrs_freq = Counter(df_all['state_abbr']) # only 1171 none -> problem w join\n",
    "# state_abbrs_freq\n",
    "# mask_data_sm.head()\n",
    "merged = df_all.merge(mask_data_sm, how='left', \n",
    "                        left_on=['date','state_abbr'], \n",
    "                        right_on = ['date','State_Tribe_Territory'])\n",
    "merged.head()"
   ]
  },
  {
   "cell_type": "code",
   "execution_count": 25,
   "metadata": {},
   "outputs": [],
   "source": [
    "merged.to_csv('merged_test_data.csv',index=False)"
   ]
  },
  {
   "cell_type": "code",
   "execution_count": 3,
   "metadata": {},
   "outputs": [
    {
     "data": {
      "text/plain": [
       "(array([1712.,  365.,  195.,  120.,  104.,   86.,   60.,   52.,   57.,\n",
       "          37.,   27.,   46.,   34.,   32.,   25.,   22.,   30.,   29.,\n",
       "          25.,   18.,   16.,   13.,   19.,   11.,   15.,   13.,   11.,\n",
       "          14.,   12.,   14.,   14.,   11.,   10.,    8.,   12.,    8.,\n",
       "          10.,    8.,   10.,   14.,    8.,    7.,   12.,    5.,    8.,\n",
       "          10.,    5.,   10.,    6.,   14.]),\n",
       " array([ 0.  ,  1.98,  3.96,  5.94,  7.92,  9.9 , 11.88, 13.86, 15.84,\n",
       "        17.82, 19.8 , 21.78, 23.76, 25.74, 27.72, 29.7 , 31.68, 33.66,\n",
       "        35.64, 37.62, 39.6 , 41.58, 43.56, 45.54, 47.52, 49.5 , 51.48,\n",
       "        53.46, 55.44, 57.42, 59.4 , 61.38, 63.36, 65.34, 67.32, 69.3 ,\n",
       "        71.28, 73.26, 75.24, 77.22, 79.2 , 81.18, 83.16, 85.14, 87.12,\n",
       "        89.1 , 91.08, 93.06, 95.04, 97.02, 99.  ]),\n",
       " <BarContainer object of 50 artists>)"
      ]
     },
     "execution_count": 3,
     "metadata": {},
     "output_type": "execute_result"
    },
    {
     "data": {
      "image/png": "[encoded data removed]",
      "text/plain": [
       "<Figure size 432x288 with 1 Axes>"
      ]
     },
     "metadata": {
      "needs_background": "light"
     },
     "output_type": "display_data"
    }
   ],
   "source": [
    "# check likes distribution\n",
    "sub_data = data.loc[data['likes']<100,]\n",
    "plt.hist(sub_data.likes,bins=50)"
   ]
  },
  {
   "cell_type": "code",
   "execution_count": null,
   "metadata": {},
   "outputs": [],
   "source": [
    "# check likes distribution\n",
    "sub_data = data.loc[data['likes']<100,]\n",
    "plt.hist(sub_data.likes,bins=50)"
   ]
  },
  {
   "cell_type": "code",
   "execution_count": 8,
   "metadata": {},
   "outputs": [
    {
     "name": "stdout",
     "output_type": "stream",
     "text": [
      "Sentiment(polarity=0.0, subjectivity=0.0)\n",
      "Sentiment(polarity=0.0, subjectivity=0.0)\n",
      "Sentiment(polarity=0.22809523809523807, subjectivity=0.6442857142857142)\n",
      "Sentiment(polarity=0.26666666666666666, subjectivity=0.662962962962963)\n",
      "Sentiment(polarity=-0.053787878787878794, subjectivity=0.5936868686868687)\n"
     ]
    }
   ],
   "source": [
    "# try text blob\n",
    "data.text\n",
    "for text in data.text[:5]:\n",
    "    test_blob = TextBlob(text)\n",
    "    print(test_blob.sentiment)"
   ]
  }
 ],
 "metadata": {
  "interpreter": {
   "hash": "16e3b9799879e24d92f4a6010a8e3548b08661ef551ca0704bdd958592137b13"
  },
  "kernelspec": {
   "display_name": "Python 3.10.1 64-bit",
   "language": "python",
   "name": "python3"
  },
  "language_info": {
   "codemirror_mode": {
    "name": "ipython",
    "version": 3
   },
   "file_extension": ".py",
   "mimetype": "text/x-python",
   "name": "python",
   "nbconvert_exporter": "python",
   "pygments_lexer": "ipython3",
   "version": "3.10.1"
  },
  "orig_nbformat": 4
 },
 "nbformat": 4,
 "nbformat_minor": 2
}
