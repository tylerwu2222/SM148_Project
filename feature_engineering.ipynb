{
 "cells": [
  {
   "cell_type": "code",
   "execution_count": 11,
   "metadata": {},
   "outputs": [],
   "source": [
    "import pandas as pd\n",
    "import numpy as np\n",
    "from textblob import TextBlob\n",
    "# import wordcloud\n",
    "# from wordcloud import WordCloud, STOPWORDS, ImageColorGenerator\n",
    "\n",
    "import matplotlib.pyplot as plt\n",
    "\n",
    "from collections import Counter"
   ]
  },
  {
   "cell_type": "code",
   "execution_count": null,
   "metadata": {},
   "outputs": [],
   "source": [
    "# MERGE ALL MONTH DATA INTO ONE dataframe"
   ]
  },
  {
   "cell_type": "code",
   "execution_count": 30,
   "metadata": {},
   "outputs": [
    {
     "data": {
      "text/plain": [
       "[('usa', 1860),\n",
       " ('ca', 729),\n",
       " ('ny', 432),\n",
       " ('tx', 396),\n",
       " ('fl', 283),\n",
       " ('wa', 188),\n",
       " ('pa', 165),\n",
       " ('il', 161),\n",
       " ('dc', 148),\n",
       " ('ga', 131),\n",
       " ('nc', 130),\n",
       " ('ma', 113),\n",
       " ('oh', 104),\n",
       " ('va', 101),\n",
       " ('mi', 95),\n",
       " ('az', 94),\n",
       " ('tn', 94),\n",
       " ('md', 85),\n",
       " ('or', 85),\n",
       " ('co', 80),\n",
       " ('nv', 79),\n",
       " ('california', 76),\n",
       " ('mo', 72),\n",
       " ('mn', 65),\n",
       " ('texas', 63),\n",
       " ('in', 62),\n",
       " ('nj', 62),\n",
       " ('wi', 50),\n",
       " ('sc', 47),\n",
       " ('la', 46),\n",
       " ('florida', 36),\n",
       " ('new york', 34),\n",
       " ('ky', 33),\n",
       " ('al', 31),\n",
       " ('ohio', 31),\n",
       " ('ok', 31),\n",
       " ('ut', 30),\n",
       " ('ks', 28),\n",
       " ('ne', 27),\n",
       " ('nm', 27),\n",
       " ('ct', 25),\n",
       " ('ia', 24),\n",
       " ('ar', 21),\n",
       " ('illinois', 21),\n",
       " ('michigan', 17),\n",
       " ('hi', 16),\n",
       " ('puerto rico', 16),\n",
       " ('colorado', 15),\n",
       " ('maryland', 15),\n",
       " ('ms', 15),\n",
       " ('washington', 15),\n",
       " ('arizona', 14),\n",
       " ('ri', 14),\n",
       " ('de', 12),\n",
       " ('id', 12),\n",
       " ('kansas', 12),\n",
       " ('north carolina', 12),\n",
       " ('oregon', 12),\n",
       " ('us', 12),\n",
       " ('wv', 12),\n",
       " ('new jersey', 11),\n",
       " ('me', 10),\n",
       " ('pennsylvania', 10),\n",
       " ('georgia', 9),\n",
       " ('mt', 9),\n",
       " ('massachusetts', 8),\n",
       " ('missouri', 8),\n",
       " ('oklahoma', 8),\n",
       " ('tennessee', 8),\n",
       " ('virginia', 8),\n",
       " ('ak', 7),\n",
       " ('indiana', 7),\n",
       " ('nd', 6),\n",
       " ('iowa', 5),\n",
       " ('louisiana', 5),\n",
       " ('nebraska', 5),\n",
       " ('new mexico', 5),\n",
       " ('sd', 5),\n",
       " ('idaho', 4),\n",
       " ('kentucky', 4),\n",
       " ('maine', 4),\n",
       " ('mississippi', 4),\n",
       " ('nevada', 4),\n",
       " ('new hampshire', 4),\n",
       " ('nh', 4),\n",
       " ('utah', 4),\n",
       " ('wisconsin', 4),\n",
       " ('arkansas', 3),\n",
       " ('dc/baltimore', 3),\n",
       " ('hawaii', 3),\n",
       " ('minnesota', 3),\n",
       " ('west virginia', 3),\n",
       " ('wy', 3),\n",
       " ('alabama', 2),\n",
       " ('alaska', 2),\n",
       " ('chicago', 2),\n",
       " ('co and houston', 2),\n",
       " ('connecticut', 2),\n",
       " ('de & port st lucie', 2),\n",
       " ('north dakota', 2),\n",
       " ('pa & dundalk', 2),\n",
       " ('rhode island', 2),\n",
       " ('vermont', 2),\n",
       " ('vt', 2),\n",
       " ('ab & palm springs', 1),\n",
       " ('alberta', 1),\n",
       " ('and ohio', 1),\n",
       " ('birmingham', 1),\n",
       " ('brooklyn', 1),\n",
       " ('ca : nyc', 1),\n",
       " ('ca to sac town', 1),\n",
       " ('caddo', 1),\n",
       " ('charleston', 1),\n",
       " ('davis', 1),\n",
       " ('dc metro area', 1),\n",
       " ('edenton', 1),\n",
       " ('fl & cocoa beach ', 1),\n",
       " ('fl. montrose', 1),\n",
       " ('from baltimore', 1),\n",
       " ('ga ', 1),\n",
       " ('ga - columbia', 1),\n",
       " ('ga / lynchburg', 1),\n",
       " ('houston', 1),\n",
       " ('huntington', 1),\n",
       " ('il & louisville', 1),\n",
       " ('il & omaha', 1),\n",
       " ('il and hopkinsville', 1),\n",
       " ('india | austin', 1),\n",
       " ('madison', 1),\n",
       " ('mich.', 1),\n",
       " ('michigan dallas', 1),\n",
       " ('misery', 1),\n",
       " ('montana', 1),\n",
       " ('nc from wash', 1),\n",
       " ('ny - dallas', 1),\n",
       " ('ny via vanoss', 1),\n",
       " ('nyc for a bit', 1),\n",
       " ('ontario', 1),\n",
       " ('ontario • chester', 1),\n",
       " ('outwest', 1),\n",
       " ('pelham', 1),\n",
       " ('phoenix', 1),\n",
       " ('reno', 1),\n",
       " ('ri/pittsburgh', 1),\n",
       " ('santa fe', 1),\n",
       " ('south carolina', 1),\n",
       " ('tacoma', 1),\n",
       " ('tovaangar-la', 1),\n",
       " ('tx + champaign', 1),\n",
       " ('tx - taos', 1),\n",
       " ('tx; new orleans', 1),\n",
       " ('waipahu', 1),\n",
       " ('west  java', 1),\n",
       " ('wyoming', 1)]"
      ]
     },
     "execution_count": 30,
     "metadata": {},
     "output_type": "execute_result"
    }
   ],
   "source": [
    "data = pd.read_csv('tweet_data/tweets_2020_04.csv')\n",
    "data.head()\n",
    "# unique_locations = apr_data.location.unique()\n",
    "\n",
    "\n",
    "loc2 = [loc.split(', ')[1].lower() for loc in data['location']]\n",
    "loc1 = [loc.split(', ')[0].lower() for loc in data['location']]\n",
    "# if 2nd part of location is usa -> get 1st part as state\n",
    "\n",
    "freq_loc = sorted(loc2)\n",
    "loc_freq = Counter(freq_loc)\n",
    "loc_freq.most_common()"
   ]
  },
  {
   "cell_type": "code",
   "execution_count": 27,
   "metadata": {},
   "outputs": [
    {
     "data": {
      "text/plain": [
       "(array([1712.,  365.,  195.,  120.,  104.,   86.,   60.,   52.,   57.,\n",
       "          37.,   27.,   46.,   34.,   32.,   25.,   22.,   30.,   29.,\n",
       "          25.,   18.,   16.,   13.,   19.,   11.,   15.,   13.,   11.,\n",
       "          14.,   12.,   14.,   14.,   11.,   10.,    8.,   12.,    8.,\n",
       "          10.,    8.,   10.,   14.,    8.,    7.,   12.,    5.,    8.,\n",
       "          10.,    5.,   10.,    6.,   14.]),\n",
       " array([ 0.  ,  1.98,  3.96,  5.94,  7.92,  9.9 , 11.88, 13.86, 15.84,\n",
       "        17.82, 19.8 , 21.78, 23.76, 25.74, 27.72, 29.7 , 31.68, 33.66,\n",
       "        35.64, 37.62, 39.6 , 41.58, 43.56, 45.54, 47.52, 49.5 , 51.48,\n",
       "        53.46, 55.44, 57.42, 59.4 , 61.38, 63.36, 65.34, 67.32, 69.3 ,\n",
       "        71.28, 73.26, 75.24, 77.22, 79.2 , 81.18, 83.16, 85.14, 87.12,\n",
       "        89.1 , 91.08, 93.06, 95.04, 97.02, 99.  ]),\n",
       " <BarContainer object of 50 artists>)"
      ]
     },
     "execution_count": 27,
     "metadata": {},
     "output_type": "execute_result"
    },
    {
     "data": {
      "image/png": "[encoded data removed]",
      "text/plain": [
       "<Figure size 432x288 with 1 Axes>"
      ]
     },
     "metadata": {
      "needs_background": "light"
     },
     "output_type": "display_data"
    }
   ],
   "source": [
    "# check like distribution\n",
    "data.head()\n",
    "sub_data = data.loc[data['likes']<100,]\n",
    "plt.hist(sub_data.likes,bins=50)"
   ]
  },
  {
   "cell_type": "code",
   "execution_count": 31,
   "metadata": {},
   "outputs": [
    {
     "data": {
      "text/plain": [
       "0       A day without Hispanics .... this country coul...\n",
       "1       XO face masks are back to raise money and I’ll...\n",
       "2       @ImKingGinger Well aren't you special? My rela...\n",
       "3       @seanhannity If I was to stay home and eat ice...\n",
       "4       @MisagaLion @tedpanos Yup, CT. Governor spoke ...\n",
       "                              ...                        \n",
       "6971    I appreciate all the best wishes I have receiv...\n",
       "6972    \"Although Trump supporters and right-wing enti...\n",
       "6973    More Trump idiocy:\\r\\n1. He threatens to cut f...\n",
       "6974    @WHSV_Hannah @NewsVirginian https://t.co/dxMWW...\n",
       "6975    Liberal Treated With Hydroxychloroquine Hopes ...\n",
       "Name: text, Length: 6976, dtype: object"
      ]
     },
     "execution_count": 31,
     "metadata": {},
     "output_type": "execute_result"
    }
   ],
   "source": [
    "# try text blob\n",
    "data.text\n",
    "# test_blob = TextBlob(data[\"tweet\"])"
   ]
  }
 ],
 "metadata": {
  "interpreter": {
   "hash": "16e3b9799879e24d92f4a6010a8e3548b08661ef551ca0704bdd958592137b13"
  },
  "kernelspec": {
   "display_name": "Python 3.10.1 64-bit",
   "language": "python",
   "name": "python3"
  },
  "language_info": {
   "codemirror_mode": {
    "name": "ipython",
    "version": 3
   },
   "file_extension": ".py",
   "mimetype": "text/x-python",
   "name": "python",
   "nbconvert_exporter": "python",
   "pygments_lexer": "ipython3",
   "version": "3.10.1"
  },
  "orig_nbformat": 4
 },
 "nbformat": 4,
 "nbformat_minor": 2
}
